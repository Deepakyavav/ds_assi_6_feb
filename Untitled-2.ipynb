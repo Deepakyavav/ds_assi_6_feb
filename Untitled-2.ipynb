{
 "cells": [
  {
   "attachments": {},
   "cell_type": "markdown",
   "metadata": {},
   "source": [
    "# 1"
   ]
  },
  {
   "cell_type": "code",
   "execution_count": 29,
   "metadata": {},
   "outputs": [],
   "source": [
    "lis=[]\n",
    "def fun(l):\n",
    "    global lis\n",
    "    if type(l) is int or type(l) is float:\n",
    "        lis.append(l)\n",
    "    elif type(l) is bool or type(l) is str:\n",
    "        pass\n",
    "    elif type(l) is dict:\n",
    "        for i in list(l.keys()):\n",
    "            fun(i)\n",
    "        for i in l.values():\n",
    "            fun(i)\n",
    "    else:\n",
    "        for i in l:\n",
    "            fun(i)"
   ]
  },
  {
   "cell_type": "code",
   "execution_count": 30,
   "metadata": {},
   "outputs": [],
   "source": [
    "l1= [1,2,3,4, [44,55,66, True], False, (34,56,78,89,34), {1,2,3,3,2,1}, {1:34, \"key2\": [55, 67, 78, 89], 4: (45,\n",
    "22, 61, 34)}, [56, 'data science'], 'Machine Learning']"
   ]
  },
  {
   "cell_type": "code",
   "execution_count": 31,
   "metadata": {},
   "outputs": [],
   "source": [
    "fun(l1)"
   ]
  },
  {
   "cell_type": "code",
   "execution_count": 32,
   "metadata": {},
   "outputs": [
    {
     "data": {
      "text/plain": [
       "[1,\n",
       " 2,\n",
       " 3,\n",
       " 4,\n",
       " 44,\n",
       " 55,\n",
       " 66,\n",
       " 34,\n",
       " 56,\n",
       " 78,\n",
       " 89,\n",
       " 34,\n",
       " 1,\n",
       " 2,\n",
       " 3,\n",
       " 1,\n",
       " 4,\n",
       " 34,\n",
       " 55,\n",
       " 67,\n",
       " 78,\n",
       " 89,\n",
       " 45,\n",
       " 22,\n",
       " 61,\n",
       " 34,\n",
       " 56]"
      ]
     },
     "execution_count": 32,
     "metadata": {},
     "output_type": "execute_result"
    }
   ],
   "source": [
    "lis"
   ]
  },
  {
   "cell_type": "code",
   "execution_count": 33,
   "metadata": {},
   "outputs": [
    {
     "name": "stdout",
     "output_type": "stream",
     "text": [
      "4134711838987085478833841242112000\n"
     ]
    }
   ],
   "source": [
    "res=1\n",
    "for i in lis:\n",
    "    res*=i\n",
    "print(res)"
   ]
  },
  {
   "cell_type": "code",
   "execution_count": 28,
   "metadata": {},
   "outputs": [
    {
     "name": "stdout",
     "output_type": "stream",
     "text": [
      "4134711838987085478833841242112000\n"
     ]
    }
   ],
   "source": [
    "res=1\n",
    "for i in lis:\n",
    "    res*=i\n",
    "print(res)"
   ]
  },
  {
   "attachments": {},
   "cell_type": "markdown",
   "metadata": {},
   "source": [
    "# 2"
   ]
  },
  {
   "cell_type": "code",
   "execution_count": 47,
   "metadata": {},
   "outputs": [],
   "source": [
    "import string\n",
    "l=list(string.ascii_lowercase)\n",
    "d={}\n",
    "for i in range(1,27):\n",
    "    d[l[i-1]]=l[26-i]\n",
    "d[\" \"]='$'"
   ]
  },
  {
   "cell_type": "code",
   "execution_count": 48,
   "metadata": {},
   "outputs": [
    {
     "data": {
      "text/plain": [
       "{'a': 'z',\n",
       " 'b': 'y',\n",
       " 'c': 'x',\n",
       " 'd': 'w',\n",
       " 'e': 'v',\n",
       " 'f': 'u',\n",
       " 'g': 't',\n",
       " 'h': 's',\n",
       " 'i': 'r',\n",
       " 'j': 'q',\n",
       " 'k': 'p',\n",
       " 'l': 'o',\n",
       " 'm': 'n',\n",
       " 'n': 'm',\n",
       " 'o': 'l',\n",
       " 'p': 'k',\n",
       " 'q': 'j',\n",
       " 'r': 'i',\n",
       " 's': 'h',\n",
       " 't': 'g',\n",
       " 'u': 'f',\n",
       " 'v': 'e',\n",
       " 'w': 'd',\n",
       " 'x': 'c',\n",
       " 'y': 'b',\n",
       " 'z': 'a',\n",
       " ' ': '$'}"
      ]
     },
     "execution_count": 48,
     "metadata": {},
     "output_type": "execute_result"
    }
   ],
   "source": [
    "d"
   ]
  },
  {
   "cell_type": "code",
   "execution_count": 54,
   "metadata": {},
   "outputs": [],
   "source": [
    "# the input statment is\n",
    "\n",
    "# I want to become a Data Scientist. \n",
    "\n",
    "l1=input(\"Enter the Message\")\n",
    "l1=l1.lower()\n",
    "l1=list(l1)\n",
    "l2=[]\n",
    "for i in l1:\n",
    "    if i in d:\n",
    "        l2.append(d[i])\n",
    "    else:\n",
    "        l2.append(i)\n",
    "#print(l1)\n",
    "#print(l2)\n",
    "s1=\"\".join(l2)"
   ]
  },
  {
   "cell_type": "code",
   "execution_count": 55,
   "metadata": {},
   "outputs": [
    {
     "name": "stdout",
     "output_type": "stream",
     "text": [
      "r$dzmg$gl$yvxlnv$z$wzgz$hxrvmgrhg.\n"
     ]
    }
   ],
   "source": [
    "print(s1)"
   ]
  },
  {
   "cell_type": "code",
   "execution_count": null,
   "metadata": {},
   "outputs": [],
   "source": []
  }
 ],
 "metadata": {
  "kernelspec": {
   "display_name": "Python 3",
   "language": "python",
   "name": "python3"
  },
  "language_info": {
   "codemirror_mode": {
    "name": "ipython",
    "version": 3
   },
   "file_extension": ".py",
   "mimetype": "text/x-python",
   "name": "python",
   "nbconvert_exporter": "python",
   "pygments_lexer": "ipython3",
   "version": "3.11.2"
  },
  "orig_nbformat": 4
 },
 "nbformat": 4,
 "nbformat_minor": 2
}
